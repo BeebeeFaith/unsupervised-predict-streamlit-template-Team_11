{
 "cells": [
  {
   "cell_type": "code",
   "execution_count": null,
   "id": "c9a0f370",
   "metadata": {},
   "outputs": [],
   "source": [
    "# import comet_ml at the top of your file\n",
    "from comet_ml import Experiment\n",
    "\n",
    "# Create an experiment with your api key\n",
    "experiment = Experiment(\n",
    "    api_key=\"vsNTC2o8UVKvzgsD124nWXkbt\",\n",
    "    project_name=\"unsupervised-learning-team-11-predict-project\",\n",
    "    workspace=\"beebeefaith\",\n",
    ")"
   ]
  }
 ],
 "metadata": {
  "kernelspec": {
   "display_name": "Python 3",
   "language": "python",
   "name": "python3"
  },
  "language_info": {
   "codemirror_mode": {
    "name": "ipython",
    "version": 3
   },
   "file_extension": ".py",
   "mimetype": "text/x-python",
   "name": "python",
   "nbconvert_exporter": "python",
   "pygments_lexer": "ipython3",
   "version": "3.8.8"
  }
 },
 "nbformat": 4,
 "nbformat_minor": 5
}
