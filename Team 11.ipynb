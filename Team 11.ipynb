{
 "cells": [
  {
<<<<<<< Updated upstream
=======
   "cell_type": "code",
   "execution_count": 77,
   "id": "ed423d0d",
   "metadata": {},
   "outputs": [
    {
     "name": "stderr",
     "output_type": "stream",
     "text": [
      "COMET WARNING: Comet has disabled auto-logging functionality as it has been imported after the following ML modules: sklearn. Metrics and hyperparameters can still be logged using comet_ml.log_metrics() and comet_ml.log_parameters()\n",
      "COMET WARNING: As you are running in a Jupyter environment, you will need to call `experiment.end()` when finished to ensure all metrics and code are logged before exiting.\n",
      "COMET INFO: Experiment is live on comet.ml https://www.comet.ml/beebeefaith/unsupervised-learning-team-11-predict-project/6ab04428df3c45b0b4db4a2399f4ef42\n",
      "\n",
      "COMET INFO: Couldn't find a Git repository in 'C:\\\\Users\\\\hp 840\\\\Documents\\\\EXPLORE ACADEMY\\\\SPRINTS\\\\Unsupervised Learning\\\\Predict\\\\edsa-movie-recommendation-2022' nor in any parent directory. You can override where Comet is looking for a Git Patch by setting the configuration `COMET_GIT_DIRECTORY`\n"
     ]
    }
   ],
   "source": [
    "# import comet_ml at the top of your file\n",
    "from comet_ml import Experiment\n",
    "\n",
    "# Create an experiment with your api key\n",
    "experiment = Experiment(\n",
    "    api_key=\"vsNTC2o8UVKvzgsD124nWXkbt\",\n",
    "    project_name=\"unsupervised-learning-team-11-predict-project\",\n",
    "    workspace=\"beebeefaith\",\n",
    ")"
   ]
  },
  {
>>>>>>> Stashed changes
   "cell_type": "markdown",
   "id": "6c7e849a",
   "metadata": {
    "ExecuteTime": {
     "end_time": "2021-06-11T09:24:53.643384Z",
     "start_time": "2021-06-11T09:24:53.622385Z"
    }
   },
   "source": [
    "# Recommeder System Project\n",
    "\n",
    "\n",
    "\n",
    "### Predict Overview: EDSA Movie Recommedation Challenge\n",
    "\n",
    "In today’s technology driven world, recommender systems are socially and economically critical to ensure that individuals can make optimised choices surrounding the content they engage with on a daily basis. One application where this is especially true is movie recommendations; where intelligent algorithms can help viewers find great titles from tens of thousands of options.\n",
    "\n",
    "With this context, EDSA is challenging you to construct a recommendation algorithm based on content or collaborative filtering, capable of accurately predicting how a user will rate a movie they have not yet viewed, based on their historical preferences.\n",
    "\n",
    "Providing an accurate and robust solution to this challenge has immense economic potential, with users of the system being personalised recommendations - generating platform affinity for the streaming services which best facilitates their audience's viewing."
   ]
  },
  {
   "cell_type": "markdown",
   "id": "05600c92",
   "metadata": {},
   "source": [
    "<a id=\"cont\"></a>\n",
    "\n",
    "## Table of Contents\n",
    "\n",
    "<a href=#one>1. Importing Packages</a>\n",
    "\n",
    "<a href=#two>2. Loading Data</a>\n",
    "\n",
    "<a href=#three>3. Exploratory Data Analysis (EDA)</a>\n",
    "\n",
<<<<<<< Updated upstream
    "<a href=#four>4. Data Engineering</a>\n",
    "\n",
    "<a href=#five>5. Modeling</a>\n",
    "\n",
    "<a href=#six>6. Model Performance</a>\n",
    "\n",
    "<a href=#seven>7. Model Explanations</a>"
=======
    "<a href=#four>4. Feature Engineering</a>\n",
    "\n",
    "<a href=#five>5. Recommendation System</a>\n",
    "\n",
    "<a href=#six>6. Model Comparison</a>\n",
    "\n",
    "<a href=#seven>7. Hyper Parameter Tuning</a>\n",
    "\n",
    "<a href=#seven>8. Conclusion</a>"
>>>>>>> Stashed changes
   ]
  },
  {
   "cell_type": "markdown",
   "id": "997462e2",
   "metadata": {},
   "source": [
    " <a id=\"one\"></a>\n",
    "## 1. Importing Packages\n",
    "<a href=#cont>Back to Table of Contents</a>\n",
    "\n",
    "---\n",
    "    \n",
    "| ⚡ Description: Importing Packages ⚡ |\n",
    "| :--------------------------- |\n",
    "| In this section all required libraries that will be used throughtout this notebook were imported. |\n",
    "\n",
    "---"
   ]
  },
  {
   "cell_type": "code",
<<<<<<< Updated upstream
   "execution_count": 1,
=======
   "execution_count": 26,
>>>>>>> Stashed changes
   "id": "475dbe93",
   "metadata": {
    "ExecuteTime": {
     "end_time": "2021-06-23T10:30:53.800892Z",
     "start_time": "2021-06-23T10:30:50.215449Z"
    }
   },
   "outputs": [],
   "source": [
    "# Libraries for data loading, data manipulation and data visulisation\n",
    "import numpy as np\n",
    "import pandas as pd\n",
    "import re\n",
    "\n",
    "# Data visualization\n",
    "import matplotlib\n",
    "import seaborn as sns \n",
    "import matplotlib.pyplot as plt \n",
    "from wordcloud import WordCloud, STOPWORDS\n",
    "\n",
    "\n",
    "# for Exploratory Data Analysis\n",
    "from pandas_profiling import ProfileReport\n",
    "\n",
    "\n",
    "# Building recommender systems \n",
    "from surprise import Dataset\n",
    "from surprise import Reader\n",
    "from surprise import accuracy\n",
<<<<<<< Updated upstream
    "from surprise import SVD\n",
=======
    "from surprise import SVD, SVDpp, NormalPredictor\n",
>>>>>>> Stashed changes
    "from surprise import KNNWithMeans\n",
    "from surprise.model_selection import cross_validate\n",
    "from sklearn.metrics.pairwise import cosine_similarity\n",
    "from sklearn.feature_extraction.text import CountVectorizer\n",
    "from sklearn.feature_extraction.text import TfidfVectorizer\n",
    "\n",
    "# Ignore warnings \n",
    "import warnings\n",
    "from pandas.core.common import SettingWithCopyWarning\n",
    "warnings.simplefilter(action=\"ignore\", category=SettingWithCopyWarning)\n",
    "\n"
   ]
  },
  {
   "cell_type": "markdown",
   "id": "f22a6718",
   "metadata": {},
   "source": [
    "<a id=\"two\"></a>\n",
    "## 2. Loading the Data\n",
    "<a class=\"anchor\" id=\"1.1\"></a>\n",
    "<a href=#cont>Back to Table of Contents</a>\n",
    "\n",
    "---\n",
    "    \n",
    "| ⚡ Description: Loading the data ⚡ |\n",
    "| :--------------------------- |\n",
    "| In this section  all the csv files required during the analysis and modelling were loaded into a pandas DataFrame. |\n",
    "\n",
    "---"
   ]
  },
  {
   "cell_type": "code",
   "execution_count": 2,
   "id": "fbbb6c18",
   "metadata": {
    "ExecuteTime": {
     "end_time": "2021-06-28T08:49:35.311495Z",
     "start_time": "2021-06-28T08:49:35.295494Z"
    }
   },
   "outputs": [],
   "source": [
    "# loaded the movies, imdb_data, tags, train and test data into their respective DataFrames\n",
    "movies = pd.read_csv('movies.csv')\n",
    "imdb_data = pd.read_csv('imdb_data.csv')\n",
    "tags = pd.read_csv('tags.csv')\n",
    "train = pd.read_csv('train.csv')\n",
    "test = pd.read_csv('test.csv')"
   ]
  },
  {
   "cell_type": "code",
   "execution_count": 3,
   "id": "2f7d0d91",
   "metadata": {},
   "outputs": [
    {
     "data": {
      "text/html": [
       "<div>\n",
       "<style scoped>\n",
       "    .dataframe tbody tr th:only-of-type {\n",
       "        vertical-align: middle;\n",
       "    }\n",
       "\n",
       "    .dataframe tbody tr th {\n",
       "        vertical-align: top;\n",
       "    }\n",
       "\n",
       "    .dataframe thead th {\n",
       "        text-align: right;\n",
       "    }\n",
       "</style>\n",
       "<table border=\"1\" class=\"dataframe\">\n",
       "  <thead>\n",
       "    <tr style=\"text-align: right;\">\n",
       "      <th></th>\n",
       "      <th>movieId</th>\n",
       "      <th>title</th>\n",
       "      <th>genres</th>\n",
       "    </tr>\n",
       "  </thead>\n",
       "  <tbody>\n",
       "    <tr>\n",
       "      <th>0</th>\n",
       "      <td>1</td>\n",
       "      <td>Toy Story (1995)</td>\n",
       "      <td>Adventure|Animation|Children|Comedy|Fantasy</td>\n",
       "    </tr>\n",
       "    <tr>\n",
       "      <th>1</th>\n",
       "      <td>2</td>\n",
       "      <td>Jumanji (1995)</td>\n",
       "      <td>Adventure|Children|Fantasy</td>\n",
       "    </tr>\n",
       "    <tr>\n",
       "      <th>2</th>\n",
       "      <td>3</td>\n",
       "      <td>Grumpier Old Men (1995)</td>\n",
       "      <td>Comedy|Romance</td>\n",
       "    </tr>\n",
       "    <tr>\n",
       "      <th>3</th>\n",
       "      <td>4</td>\n",
       "      <td>Waiting to Exhale (1995)</td>\n",
       "      <td>Comedy|Drama|Romance</td>\n",
       "    </tr>\n",
       "    <tr>\n",
       "      <th>4</th>\n",
       "      <td>5</td>\n",
       "      <td>Father of the Bride Part II (1995)</td>\n",
       "      <td>Comedy</td>\n",
       "    </tr>\n",
       "  </tbody>\n",
       "</table>\n",
       "</div>"
      ],
      "text/plain": [
       "   movieId                               title  \\\n",
       "0        1                    Toy Story (1995)   \n",
       "1        2                      Jumanji (1995)   \n",
       "2        3             Grumpier Old Men (1995)   \n",
       "3        4            Waiting to Exhale (1995)   \n",
       "4        5  Father of the Bride Part II (1995)   \n",
       "\n",
       "                                        genres  \n",
       "0  Adventure|Animation|Children|Comedy|Fantasy  \n",
       "1                   Adventure|Children|Fantasy  \n",
       "2                               Comedy|Romance  \n",
       "3                         Comedy|Drama|Romance  \n",
       "4                                       Comedy  "
      ]
     },
     "execution_count": 3,
     "metadata": {},
     "output_type": "execute_result"
    }
   ],
   "source": [
    "movies.head()"
   ]
  },
  {
   "cell_type": "code",
   "execution_count": 4,
   "id": "704530f8",
   "metadata": {},
   "outputs": [
    {
     "data": {
      "text/html": [
       "<div>\n",
       "<style scoped>\n",
       "    .dataframe tbody tr th:only-of-type {\n",
       "        vertical-align: middle;\n",
       "    }\n",
       "\n",
       "    .dataframe tbody tr th {\n",
       "        vertical-align: top;\n",
       "    }\n",
       "\n",
       "    .dataframe thead th {\n",
       "        text-align: right;\n",
       "    }\n",
       "</style>\n",
       "<table border=\"1\" class=\"dataframe\">\n",
       "  <thead>\n",
       "    <tr style=\"text-align: right;\">\n",
       "      <th></th>\n",
       "      <th>movieId</th>\n",
       "      <th>title_cast</th>\n",
       "      <th>director</th>\n",
       "      <th>runtime</th>\n",
       "      <th>budget</th>\n",
       "      <th>plot_keywords</th>\n",
       "    </tr>\n",
       "  </thead>\n",
       "  <tbody>\n",
       "    <tr>\n",
       "      <th>0</th>\n",
       "      <td>1</td>\n",
       "      <td>Tom Hanks|Tim Allen|Don Rickles|Jim Varney|Wal...</td>\n",
       "      <td>John Lasseter</td>\n",
       "      <td>81.0</td>\n",
       "      <td>$30,000,000</td>\n",
       "      <td>toy|rivalry|cowboy|cgi animation</td>\n",
       "    </tr>\n",
       "    <tr>\n",
       "      <th>1</th>\n",
       "      <td>2</td>\n",
       "      <td>Robin Williams|Jonathan Hyde|Kirsten Dunst|Bra...</td>\n",
       "      <td>Jonathan Hensleigh</td>\n",
       "      <td>104.0</td>\n",
       "      <td>$65,000,000</td>\n",
       "      <td>board game|adventurer|fight|game</td>\n",
       "    </tr>\n",
       "    <tr>\n",
       "      <th>2</th>\n",
       "      <td>3</td>\n",
       "      <td>Walter Matthau|Jack Lemmon|Sophia Loren|Ann-Ma...</td>\n",
       "      <td>Mark Steven Johnson</td>\n",
       "      <td>101.0</td>\n",
       "      <td>$25,000,000</td>\n",
       "      <td>boat|lake|neighbor|rivalry</td>\n",
       "    </tr>\n",
       "    <tr>\n",
       "      <th>3</th>\n",
       "      <td>4</td>\n",
       "      <td>Whitney Houston|Angela Bassett|Loretta Devine|...</td>\n",
       "      <td>Terry McMillan</td>\n",
       "      <td>124.0</td>\n",
       "      <td>$16,000,000</td>\n",
       "      <td>black american|husband wife relationship|betra...</td>\n",
       "    </tr>\n",
       "    <tr>\n",
       "      <th>4</th>\n",
       "      <td>5</td>\n",
       "      <td>Steve Martin|Diane Keaton|Martin Short|Kimberl...</td>\n",
       "      <td>Albert Hackett</td>\n",
       "      <td>106.0</td>\n",
       "      <td>$30,000,000</td>\n",
       "      <td>fatherhood|doberman|dog|mansion</td>\n",
       "    </tr>\n",
       "  </tbody>\n",
       "</table>\n",
       "</div>"
      ],
      "text/plain": [
       "   movieId                                         title_cast  \\\n",
       "0        1  Tom Hanks|Tim Allen|Don Rickles|Jim Varney|Wal...   \n",
       "1        2  Robin Williams|Jonathan Hyde|Kirsten Dunst|Bra...   \n",
       "2        3  Walter Matthau|Jack Lemmon|Sophia Loren|Ann-Ma...   \n",
       "3        4  Whitney Houston|Angela Bassett|Loretta Devine|...   \n",
       "4        5  Steve Martin|Diane Keaton|Martin Short|Kimberl...   \n",
       "\n",
       "              director  runtime       budget  \\\n",
       "0        John Lasseter     81.0  $30,000,000   \n",
       "1   Jonathan Hensleigh    104.0  $65,000,000   \n",
       "2  Mark Steven Johnson    101.0  $25,000,000   \n",
       "3       Terry McMillan    124.0  $16,000,000   \n",
       "4       Albert Hackett    106.0  $30,000,000   \n",
       "\n",
       "                                       plot_keywords  \n",
       "0                   toy|rivalry|cowboy|cgi animation  \n",
       "1                   board game|adventurer|fight|game  \n",
       "2                         boat|lake|neighbor|rivalry  \n",
       "3  black american|husband wife relationship|betra...  \n",
       "4                    fatherhood|doberman|dog|mansion  "
      ]
     },
     "execution_count": 4,
     "metadata": {},
     "output_type": "execute_result"
    }
   ],
   "source": [
    "imdb_data.head()"
   ]
  },
  {
   "cell_type": "code",
   "execution_count": 5,
   "id": "46872dbe",
   "metadata": {},
   "outputs": [
    {
     "data": {
      "text/html": [
       "<div>\n",
       "<style scoped>\n",
       "    .dataframe tbody tr th:only-of-type {\n",
       "        vertical-align: middle;\n",
       "    }\n",
       "\n",
       "    .dataframe tbody tr th {\n",
       "        vertical-align: top;\n",
       "    }\n",
       "\n",
       "    .dataframe thead th {\n",
       "        text-align: right;\n",
       "    }\n",
       "</style>\n",
       "<table border=\"1\" class=\"dataframe\">\n",
       "  <thead>\n",
       "    <tr style=\"text-align: right;\">\n",
       "      <th></th>\n",
       "      <th>userId</th>\n",
       "      <th>movieId</th>\n",
       "      <th>tag</th>\n",
       "      <th>timestamp</th>\n",
       "    </tr>\n",
       "  </thead>\n",
       "  <tbody>\n",
       "    <tr>\n",
       "      <th>0</th>\n",
       "      <td>3</td>\n",
       "      <td>260</td>\n",
       "      <td>classic</td>\n",
       "      <td>1439472355</td>\n",
       "    </tr>\n",
       "    <tr>\n",
       "      <th>1</th>\n",
       "      <td>3</td>\n",
       "      <td>260</td>\n",
       "      <td>sci-fi</td>\n",
       "      <td>1439472256</td>\n",
       "    </tr>\n",
       "    <tr>\n",
       "      <th>2</th>\n",
       "      <td>4</td>\n",
       "      <td>1732</td>\n",
       "      <td>dark comedy</td>\n",
       "      <td>1573943598</td>\n",
       "    </tr>\n",
       "    <tr>\n",
       "      <th>3</th>\n",
       "      <td>4</td>\n",
       "      <td>1732</td>\n",
       "      <td>great dialogue</td>\n",
       "      <td>1573943604</td>\n",
       "    </tr>\n",
       "    <tr>\n",
       "      <th>4</th>\n",
       "      <td>4</td>\n",
       "      <td>7569</td>\n",
       "      <td>so bad it's good</td>\n",
       "      <td>1573943455</td>\n",
       "    </tr>\n",
       "  </tbody>\n",
       "</table>\n",
       "</div>"
      ],
      "text/plain": [
       "   userId  movieId               tag   timestamp\n",
       "0       3      260           classic  1439472355\n",
       "1       3      260            sci-fi  1439472256\n",
       "2       4     1732       dark comedy  1573943598\n",
       "3       4     1732    great dialogue  1573943604\n",
       "4       4     7569  so bad it's good  1573943455"
      ]
     },
     "execution_count": 5,
     "metadata": {},
     "output_type": "execute_result"
    }
   ],
   "source": [
    "tags.head()"
   ]
  },
  {
   "cell_type": "code",
   "execution_count": 6,
   "id": "219f3e88",
   "metadata": {},
   "outputs": [
    {
     "data": {
      "text/html": [
       "<div>\n",
       "<style scoped>\n",
       "    .dataframe tbody tr th:only-of-type {\n",
       "        vertical-align: middle;\n",
       "    }\n",
       "\n",
       "    .dataframe tbody tr th {\n",
       "        vertical-align: top;\n",
       "    }\n",
       "\n",
       "    .dataframe thead th {\n",
       "        text-align: right;\n",
       "    }\n",
       "</style>\n",
       "<table border=\"1\" class=\"dataframe\">\n",
       "  <thead>\n",
       "    <tr style=\"text-align: right;\">\n",
       "      <th></th>\n",
       "      <th>userId</th>\n",
       "      <th>movieId</th>\n",
       "      <th>rating</th>\n",
       "      <th>timestamp</th>\n",
       "    </tr>\n",
       "  </thead>\n",
       "  <tbody>\n",
       "    <tr>\n",
       "      <th>0</th>\n",
       "      <td>5163</td>\n",
       "      <td>57669</td>\n",
       "      <td>4.0</td>\n",
       "      <td>1518349992</td>\n",
       "    </tr>\n",
       "    <tr>\n",
       "      <th>1</th>\n",
       "      <td>106343</td>\n",
       "      <td>5</td>\n",
       "      <td>4.5</td>\n",
       "      <td>1206238739</td>\n",
       "    </tr>\n",
       "    <tr>\n",
       "      <th>2</th>\n",
       "      <td>146790</td>\n",
       "      <td>5459</td>\n",
       "      <td>5.0</td>\n",
       "      <td>1076215539</td>\n",
       "    </tr>\n",
       "    <tr>\n",
       "      <th>3</th>\n",
       "      <td>106362</td>\n",
       "      <td>32296</td>\n",
       "      <td>2.0</td>\n",
       "      <td>1423042565</td>\n",
       "    </tr>\n",
       "    <tr>\n",
       "      <th>4</th>\n",
       "      <td>9041</td>\n",
       "      <td>366</td>\n",
       "      <td>3.0</td>\n",
       "      <td>833375837</td>\n",
       "    </tr>\n",
       "  </tbody>\n",
       "</table>\n",
       "</div>"
      ],
      "text/plain": [
       "   userId  movieId  rating   timestamp\n",
       "0    5163    57669     4.0  1518349992\n",
       "1  106343        5     4.5  1206238739\n",
       "2  146790     5459     5.0  1076215539\n",
       "3  106362    32296     2.0  1423042565\n",
       "4    9041      366     3.0   833375837"
      ]
     },
     "execution_count": 6,
     "metadata": {},
     "output_type": "execute_result"
    }
   ],
   "source": [
    "train.head()"
   ]
  },
  {
   "cell_type": "code",
   "execution_count": 7,
   "id": "d4053140",
   "metadata": {},
   "outputs": [
    {
     "data": {
      "text/html": [
       "<div>\n",
       "<style scoped>\n",
       "    .dataframe tbody tr th:only-of-type {\n",
       "        vertical-align: middle;\n",
       "    }\n",
       "\n",
       "    .dataframe tbody tr th {\n",
       "        vertical-align: top;\n",
       "    }\n",
       "\n",
       "    .dataframe thead th {\n",
       "        text-align: right;\n",
       "    }\n",
       "</style>\n",
       "<table border=\"1\" class=\"dataframe\">\n",
       "  <thead>\n",
       "    <tr style=\"text-align: right;\">\n",
       "      <th></th>\n",
       "      <th>userId</th>\n",
       "      <th>movieId</th>\n",
       "    </tr>\n",
       "  </thead>\n",
       "  <tbody>\n",
       "    <tr>\n",
       "      <th>0</th>\n",
       "      <td>1</td>\n",
       "      <td>2011</td>\n",
       "    </tr>\n",
       "    <tr>\n",
       "      <th>1</th>\n",
       "      <td>1</td>\n",
       "      <td>4144</td>\n",
       "    </tr>\n",
       "    <tr>\n",
       "      <th>2</th>\n",
       "      <td>1</td>\n",
       "      <td>5767</td>\n",
       "    </tr>\n",
       "    <tr>\n",
       "      <th>3</th>\n",
       "      <td>1</td>\n",
       "      <td>6711</td>\n",
       "    </tr>\n",
       "    <tr>\n",
       "      <th>4</th>\n",
       "      <td>1</td>\n",
       "      <td>7318</td>\n",
       "    </tr>\n",
       "  </tbody>\n",
       "</table>\n",
       "</div>"
      ],
      "text/plain": [
       "   userId  movieId\n",
       "0       1     2011\n",
       "1       1     4144\n",
       "2       1     5767\n",
       "3       1     6711\n",
       "4       1     7318"
      ]
     },
     "execution_count": 7,
     "metadata": {},
     "output_type": "execute_result"
    }
   ],
   "source": [
    "test.head()"
   ]
  },
  {
   "cell_type": "markdown",
   "id": "81132ab3",
   "metadata": {},
   "source": [
    "<a id=\"three\"></a>\n",
    "## 3. Exploratory Data Analysis (EDA)\n",
    "<a class=\"anchor\" id=\"1.1\"></a>\n",
    "<a href=#cont>Back to Table of Contents</a>\n",
    "\n",
    "---\n",
    "    \n",
    "| ⚡ Description: Exploratory data analysis ⚡ |\n",
    "| :--------------------------- |\n",
    "| In this section, an in-depth analysis of all the variables in the DataFrames were performed. |\n",
    "\n",
    "---\n"
   ]
  },
  {
   "cell_type": "code",
   "execution_count": 8,
   "id": "e6392e4f",
   "metadata": {},
   "outputs": [],
   "source": [
    "# profile = ProfileReport(train, title='Report')\n",
    "# profile"
   ]
  },
  {
<<<<<<< Updated upstream
   "cell_type": "code",
   "execution_count": null,
   "id": "24d2e0d2",
   "metadata": {},
   "outputs": [],
   "source": []
  },
  {
   "cell_type": "code",
   "execution_count": null,
   "id": "3e57f893",
   "metadata": {},
   "outputs": [],
   "source": []
  },
  {
   "cell_type": "code",
   "execution_count": null,
   "id": "32b77aab",
   "metadata": {},
   "outputs": [],
   "source": []
  },
  {
=======
>>>>>>> Stashed changes
   "cell_type": "markdown",
   "id": "3fa93ec6",
   "metadata": {},
   "source": [
    "<a id=\"four\"></a>\n",
<<<<<<< Updated upstream
    "## 4. Data Engineering\n",
    "<a class=\"anchor\" id=\"1.1\"></a>\n",
    "<a href=#cont>Back to Table of Contents</a>\n",
    "\n",
    "---\n",
    "    \n",
    "| ⚡ Description: Data engineering ⚡ |\n",
    "| :--------------------------- |\n",
    "| In this section the data was sujected to cleaning and creating new features . |\n",
    "\n",
    "---"
=======
    "## 4. Feature Engineering\n",
    "<a class=\"anchor\" id=\"1.1\"></a>\n",
    "<a href=#cont>Back to Table of Contents</a>\n",
    "\n",
    "    At this point we would perfom the following Actions that would sum up the Feature Engineering phase.\n",
    "    1. Identify the datasets.\n",
    "    2. Selecct the features needed.\n",
    "    3. Merge the datasets needed\n",
    "    4. Clean the data.\n",
    "    5. Create new features.\n",
    "    6. Perform Vectorization."
>>>>>>> Stashed changes
   ]
  },
  {
   "cell_type": "code",
   "execution_count": 9,
   "id": "059c2f3e",
   "metadata": {},
   "outputs": [
    {
     "data": {
      "text/html": [
       "<div>\n",
       "<style scoped>\n",
       "    .dataframe tbody tr th:only-of-type {\n",
       "        vertical-align: middle;\n",
       "    }\n",
       "\n",
       "    .dataframe tbody tr th {\n",
       "        vertical-align: top;\n",
       "    }\n",
       "\n",
       "    .dataframe thead th {\n",
       "        text-align: right;\n",
       "    }\n",
       "</style>\n",
       "<table border=\"1\" class=\"dataframe\">\n",
       "  <thead>\n",
       "    <tr style=\"text-align: right;\">\n",
       "      <th></th>\n",
       "      <th>movieId</th>\n",
       "      <th>title_cast</th>\n",
       "      <th>director</th>\n",
       "      <th>plot_keywords</th>\n",
       "      <th>genres</th>\n",
       "      <th>title</th>\n",
       "    </tr>\n",
       "  </thead>\n",
       "  <tbody>\n",
       "    <tr>\n",
       "      <th>0</th>\n",
       "      <td>1</td>\n",
       "      <td>Tom Hanks|Tim Allen|Don Rickles|Jim Varney|Wal...</td>\n",
       "      <td>John Lasseter</td>\n",
       "      <td>toy|rivalry|cowboy|cgi animation</td>\n",
       "      <td>Adventure|Animation|Children|Comedy|Fantasy</td>\n",
       "      <td>Toy Story (1995)</td>\n",
       "    </tr>\n",
       "    <tr>\n",
       "      <th>1</th>\n",
       "      <td>2</td>\n",
       "      <td>Robin Williams|Jonathan Hyde|Kirsten Dunst|Bra...</td>\n",
       "      <td>Jonathan Hensleigh</td>\n",
       "      <td>board game|adventurer|fight|game</td>\n",
       "      <td>Adventure|Children|Fantasy</td>\n",
       "      <td>Jumanji (1995)</td>\n",
       "    </tr>\n",
       "    <tr>\n",
       "      <th>2</th>\n",
       "      <td>3</td>\n",
       "      <td>Walter Matthau|Jack Lemmon|Sophia Loren|Ann-Ma...</td>\n",
       "      <td>Mark Steven Johnson</td>\n",
       "      <td>boat|lake|neighbor|rivalry</td>\n",
       "      <td>Comedy|Romance</td>\n",
       "      <td>Grumpier Old Men (1995)</td>\n",
       "    </tr>\n",
       "    <tr>\n",
       "      <th>3</th>\n",
       "      <td>4</td>\n",
       "      <td>Whitney Houston|Angela Bassett|Loretta Devine|...</td>\n",
       "      <td>Terry McMillan</td>\n",
       "      <td>black american|husband wife relationship|betra...</td>\n",
       "      <td>Comedy|Drama|Romance</td>\n",
       "      <td>Waiting to Exhale (1995)</td>\n",
       "    </tr>\n",
       "    <tr>\n",
       "      <th>4</th>\n",
       "      <td>5</td>\n",
       "      <td>Steve Martin|Diane Keaton|Martin Short|Kimberl...</td>\n",
       "      <td>Albert Hackett</td>\n",
       "      <td>fatherhood|doberman|dog|mansion</td>\n",
       "      <td>Comedy</td>\n",
       "      <td>Father of the Bride Part II (1995)</td>\n",
       "    </tr>\n",
       "  </tbody>\n",
       "</table>\n",
       "</div>"
      ],
      "text/plain": [
       "   movieId                                         title_cast  \\\n",
       "0        1  Tom Hanks|Tim Allen|Don Rickles|Jim Varney|Wal...   \n",
       "1        2  Robin Williams|Jonathan Hyde|Kirsten Dunst|Bra...   \n",
       "2        3  Walter Matthau|Jack Lemmon|Sophia Loren|Ann-Ma...   \n",
       "3        4  Whitney Houston|Angela Bassett|Loretta Devine|...   \n",
       "4        5  Steve Martin|Diane Keaton|Martin Short|Kimberl...   \n",
       "\n",
       "              director                                      plot_keywords  \\\n",
       "0        John Lasseter                   toy|rivalry|cowboy|cgi animation   \n",
       "1   Jonathan Hensleigh                   board game|adventurer|fight|game   \n",
       "2  Mark Steven Johnson                         boat|lake|neighbor|rivalry   \n",
       "3       Terry McMillan  black american|husband wife relationship|betra...   \n",
       "4       Albert Hackett                    fatherhood|doberman|dog|mansion   \n",
       "\n",
       "                                        genres  \\\n",
       "0  Adventure|Animation|Children|Comedy|Fantasy   \n",
       "1                   Adventure|Children|Fantasy   \n",
       "2                               Comedy|Romance   \n",
       "3                         Comedy|Drama|Romance   \n",
       "4                                       Comedy   \n",
       "\n",
       "                                title  \n",
       "0                    Toy Story (1995)  \n",
       "1                      Jumanji (1995)  \n",
       "2             Grumpier Old Men (1995)  \n",
       "3            Waiting to Exhale (1995)  \n",
       "4  Father of the Bride Part II (1995)  "
      ]
     },
     "execution_count": 9,
     "metadata": {},
     "output_type": "execute_result"
    }
   ],
   "source": [
    "#feature selection and creating a new dataframe\n",
    "df = imdb_data[['movieId','title_cast','director', 'plot_keywords']]\n",
    "\n",
    "# merged the seleceted features of imdb_data with the selected features of the movies table\n",
    "df = df.merge(movies[['movieId', 'genres', 'title']], on='movieId', how='inner')\n",
    "\n",
    "\n",
    "df.head()"
   ]
  },
  {
   "cell_type": "code",
   "execution_count": 10,
   "id": "90e4fe14",
   "metadata": {},
   "outputs": [
    {
     "data": {
      "text/html": [
       "<div>\n",
       "<style scoped>\n",
       "    .dataframe tbody tr th:only-of-type {\n",
       "        vertical-align: middle;\n",
       "    }\n",
       "\n",
       "    .dataframe tbody tr th {\n",
       "        vertical-align: top;\n",
       "    }\n",
       "\n",
       "    .dataframe thead th {\n",
       "        text-align: right;\n",
       "    }\n",
       "</style>\n",
       "<table border=\"1\" class=\"dataframe\">\n",
       "  <thead>\n",
       "    <tr style=\"text-align: right;\">\n",
       "      <th></th>\n",
       "      <th>movieId</th>\n",
       "      <th>title_cast</th>\n",
       "      <th>director</th>\n",
       "      <th>plot_keywords</th>\n",
       "      <th>genres</th>\n",
       "      <th>title</th>\n",
       "    </tr>\n",
       "  </thead>\n",
       "  <tbody>\n",
       "    <tr>\n",
       "      <th>0</th>\n",
       "      <td>1</td>\n",
       "      <td>Tom Hanks|Tim Allen|Don Rickles|Jim Varney|Wal...</td>\n",
       "      <td>John Lasseter</td>\n",
       "      <td>toy|rivalry|cowboy|cgi animation</td>\n",
       "      <td>Adventure|Animation|Children|Comedy|Fantasy</td>\n",
       "      <td>Toy Story (1995)</td>\n",
       "    </tr>\n",
       "    <tr>\n",
       "      <th>1</th>\n",
       "      <td>2</td>\n",
       "      <td>Robin Williams|Jonathan Hyde|Kirsten Dunst|Bra...</td>\n",
       "      <td>Jonathan Hensleigh</td>\n",
       "      <td>board game|adventurer|fight|game</td>\n",
       "      <td>Adventure|Children|Fantasy</td>\n",
       "      <td>Jumanji (1995)</td>\n",
       "    </tr>\n",
       "    <tr>\n",
       "      <th>2</th>\n",
       "      <td>3</td>\n",
       "      <td>Walter Matthau|Jack Lemmon|Sophia Loren|Ann-Ma...</td>\n",
       "      <td>Mark Steven Johnson</td>\n",
       "      <td>boat|lake|neighbor|rivalry</td>\n",
       "      <td>Comedy|Romance</td>\n",
       "      <td>Grumpier Old Men (1995)</td>\n",
       "    </tr>\n",
       "    <tr>\n",
       "      <th>3</th>\n",
       "      <td>4</td>\n",
       "      <td>Whitney Houston|Angela Bassett|Loretta Devine|...</td>\n",
       "      <td>Terry McMillan</td>\n",
       "      <td>black american|husband wife relationship|betra...</td>\n",
       "      <td>Comedy|Drama|Romance</td>\n",
       "      <td>Waiting to Exhale (1995)</td>\n",
       "    </tr>\n",
       "    <tr>\n",
       "      <th>4</th>\n",
       "      <td>5</td>\n",
       "      <td>Steve Martin|Diane Keaton|Martin Short|Kimberl...</td>\n",
       "      <td>Albert Hackett</td>\n",
       "      <td>fatherhood|doberman|dog|mansion</td>\n",
       "      <td>Comedy</td>\n",
       "      <td>Father of the Bride Part II (1995)</td>\n",
       "    </tr>\n",
       "  </tbody>\n",
       "</table>\n",
       "</div>"
      ],
      "text/plain": [
       "   movieId                                         title_cast  \\\n",
       "0        1  Tom Hanks|Tim Allen|Don Rickles|Jim Varney|Wal...   \n",
       "1        2  Robin Williams|Jonathan Hyde|Kirsten Dunst|Bra...   \n",
       "2        3  Walter Matthau|Jack Lemmon|Sophia Loren|Ann-Ma...   \n",
       "3        4  Whitney Houston|Angela Bassett|Loretta Devine|...   \n",
       "4        5  Steve Martin|Diane Keaton|Martin Short|Kimberl...   \n",
       "\n",
       "              director                                      plot_keywords  \\\n",
       "0        John Lasseter                   toy|rivalry|cowboy|cgi animation   \n",
       "1   Jonathan Hensleigh                   board game|adventurer|fight|game   \n",
       "2  Mark Steven Johnson                         boat|lake|neighbor|rivalry   \n",
       "3       Terry McMillan  black american|husband wife relationship|betra...   \n",
       "4       Albert Hackett                    fatherhood|doberman|dog|mansion   \n",
       "\n",
       "                                        genres  \\\n",
       "0  Adventure|Animation|Children|Comedy|Fantasy   \n",
       "1                   Adventure|Children|Fantasy   \n",
       "2                               Comedy|Romance   \n",
       "3                         Comedy|Drama|Romance   \n",
       "4                                       Comedy   \n",
       "\n",
       "                                title  \n",
       "0                    Toy Story (1995)  \n",
       "1                      Jumanji (1995)  \n",
       "2             Grumpier Old Men (1995)  \n",
       "3            Waiting to Exhale (1995)  \n",
       "4  Father of the Bride Part II (1995)  "
      ]
     },
     "execution_count": 10,
     "metadata": {},
     "output_type": "execute_result"
    }
   ],
   "source": [
    "# Convert data types to strings for string handling\n",
    "df['title_cast'] = df.title_cast.astype(str)\n",
    "df['plot_keywords'] = df.plot_keywords.astype(str)\n",
    "df['genres'] = df.genres.astype(str)\n",
    "df['director'] = df.director.astype(str)\n",
    "df.head()"
   ]
  },
  {
   "cell_type": "code",
   "execution_count": 11,
   "id": "e19760bc",
   "metadata": {},
   "outputs": [
    {
     "name": "stdout",
     "output_type": "stream",
     "text": [
      "<class 'pandas.core.frame.DataFrame'>\n",
      "Int64Index: 24866 entries, 0 to 24865\n",
      "Data columns (total 6 columns):\n",
      " #   Column         Non-Null Count  Dtype \n",
      "---  ------         --------------  ----- \n",
      " 0   movieId        24866 non-null  int64 \n",
      " 1   title_cast     24866 non-null  object\n",
      " 2   director       24866 non-null  object\n",
      " 3   plot_keywords  24866 non-null  object\n",
      " 4   genres         24866 non-null  object\n",
      " 5   title          24866 non-null  object\n",
      "dtypes: int64(1), object(5)\n",
      "memory usage: 1.3+ MB\n"
     ]
    }
   ],
   "source": [
    "# Checking to see that all the column data types are correct\n",
    "df.info()"
   ]
  },
  {
   "cell_type": "code",
   "execution_count": 12,
   "id": "7df1036c",
   "metadata": {},
   "outputs": [
    {
     "data": {
      "text/html": [
       "<div>\n",
       "<style scoped>\n",
       "    .dataframe tbody tr th:only-of-type {\n",
       "        vertical-align: middle;\n",
       "    }\n",
       "\n",
       "    .dataframe tbody tr th {\n",
       "        vertical-align: top;\n",
       "    }\n",
       "\n",
       "    .dataframe thead th {\n",
       "        text-align: right;\n",
       "    }\n",
       "</style>\n",
       "<table border=\"1\" class=\"dataframe\">\n",
       "  <thead>\n",
       "    <tr style=\"text-align: right;\">\n",
       "      <th></th>\n",
       "      <th>movieId</th>\n",
       "      <th>title_cast</th>\n",
       "      <th>director</th>\n",
       "      <th>plot_keywords</th>\n",
       "      <th>genres</th>\n",
       "      <th>title</th>\n",
       "    </tr>\n",
       "  </thead>\n",
       "  <tbody>\n",
       "    <tr>\n",
       "      <th>0</th>\n",
       "      <td>1</td>\n",
       "      <td>tomhanks|timallen|donrickles|jimvarney|wallace...</td>\n",
       "      <td>johnlasseter</td>\n",
       "      <td>toy|rivalry|cowboy|cgi animation</td>\n",
       "      <td>Adventure|Animation|Children|Comedy|Fantasy</td>\n",
       "      <td>Toy Story (1995)</td>\n",
       "    </tr>\n",
       "    <tr>\n",
       "      <th>1</th>\n",
       "      <td>2</td>\n",
       "      <td>robinwilliams|jonathanhyde|kirstendunst|bradle...</td>\n",
       "      <td>jonathanhensleigh</td>\n",
       "      <td>board game|adventurer|fight|game</td>\n",
       "      <td>Adventure|Children|Fantasy</td>\n",
       "      <td>Jumanji (1995)</td>\n",
       "    </tr>\n",
       "    <tr>\n",
       "      <th>2</th>\n",
       "      <td>3</td>\n",
       "      <td>waltermatthau|jacklemmon|sophialoren|ann-margr...</td>\n",
       "      <td>markstevenjohnson</td>\n",
       "      <td>boat|lake|neighbor|rivalry</td>\n",
       "      <td>Comedy|Romance</td>\n",
       "      <td>Grumpier Old Men (1995)</td>\n",
       "    </tr>\n",
       "    <tr>\n",
       "      <th>3</th>\n",
       "      <td>4</td>\n",
       "      <td>whitneyhouston|angelabassett|lorettadevine|lel...</td>\n",
       "      <td>terrymcmillan</td>\n",
       "      <td>black american|husband wife relationship|betra...</td>\n",
       "      <td>Comedy|Drama|Romance</td>\n",
       "      <td>Waiting to Exhale (1995)</td>\n",
       "    </tr>\n",
       "    <tr>\n",
       "      <th>4</th>\n",
       "      <td>5</td>\n",
       "      <td>stevemartin|dianekeaton|martinshort|kimberlywi...</td>\n",
       "      <td>alberthackett</td>\n",
       "      <td>fatherhood|doberman|dog|mansion</td>\n",
       "      <td>Comedy</td>\n",
       "      <td>Father of the Bride Part II (1995)</td>\n",
       "    </tr>\n",
       "  </tbody>\n",
       "</table>\n",
       "</div>"
      ],
      "text/plain": [
       "   movieId                                         title_cast  \\\n",
       "0        1  tomhanks|timallen|donrickles|jimvarney|wallace...   \n",
       "1        2  robinwilliams|jonathanhyde|kirstendunst|bradle...   \n",
       "2        3  waltermatthau|jacklemmon|sophialoren|ann-margr...   \n",
       "3        4  whitneyhouston|angelabassett|lorettadevine|lel...   \n",
       "4        5  stevemartin|dianekeaton|martinshort|kimberlywi...   \n",
       "\n",
       "            director                                      plot_keywords  \\\n",
       "0       johnlasseter                   toy|rivalry|cowboy|cgi animation   \n",
       "1  jonathanhensleigh                   board game|adventurer|fight|game   \n",
       "2  markstevenjohnson                         boat|lake|neighbor|rivalry   \n",
       "3      terrymcmillan  black american|husband wife relationship|betra...   \n",
       "4      alberthackett                    fatherhood|doberman|dog|mansion   \n",
       "\n",
       "                                        genres  \\\n",
       "0  Adventure|Animation|Children|Comedy|Fantasy   \n",
       "1                   Adventure|Children|Fantasy   \n",
       "2                               Comedy|Romance   \n",
       "3                         Comedy|Drama|Romance   \n",
       "4                                       Comedy   \n",
       "\n",
       "                                title  \n",
       "0                    Toy Story (1995)  \n",
       "1                      Jumanji (1995)  \n",
       "2             Grumpier Old Men (1995)  \n",
       "3            Waiting to Exhale (1995)  \n",
       "4  Father of the Bride Part II (1995)  "
      ]
     },
     "execution_count": 12,
     "metadata": {},
     "output_type": "execute_result"
    }
   ],
   "source": [
    "# Removing spaces between names in the director column\n",
    "df['director'] = df['director'].apply(lambda x: \"\".join(x.lower() for x in x.split()))\n",
    "\n",
    "# Removing spaces between names in the title_cast column\n",
    "df['title_cast'] = df['title_cast'].apply(lambda x: \"\".join(x.lower() for x in x.split()))\n",
    "\n",
    "df.head()"
   ]
  },
  {
   "cell_type": "code",
   "execution_count": 13,
   "id": "c4ddeb2b",
   "metadata": {},
   "outputs": [
    {
     "data": {
      "text/html": [
       "<div>\n",
       "<style scoped>\n",
       "    .dataframe tbody tr th:only-of-type {\n",
       "        vertical-align: middle;\n",
       "    }\n",
       "\n",
       "    .dataframe tbody tr th {\n",
       "        vertical-align: top;\n",
       "    }\n",
       "\n",
       "    .dataframe thead th {\n",
       "        text-align: right;\n",
       "    }\n",
       "</style>\n",
       "<table border=\"1\" class=\"dataframe\">\n",
       "  <thead>\n",
       "    <tr style=\"text-align: right;\">\n",
       "      <th></th>\n",
       "      <th>movieId</th>\n",
       "      <th>title_cast</th>\n",
       "      <th>director</th>\n",
       "      <th>plot_keywords</th>\n",
       "      <th>genres</th>\n",
       "      <th>title</th>\n",
       "    </tr>\n",
       "  </thead>\n",
       "  <tbody>\n",
       "    <tr>\n",
       "      <th>0</th>\n",
       "      <td>1</td>\n",
       "      <td>tomhanks timallen donrickles</td>\n",
       "      <td>johnlasseter</td>\n",
       "      <td>toy|rivalry|cowboy|cgi animation</td>\n",
       "      <td>Adventure|Animation|Children|Comedy|Fantasy</td>\n",
       "      <td>Toy Story (1995)</td>\n",
       "    </tr>\n",
       "    <tr>\n",
       "      <th>1</th>\n",
       "      <td>2</td>\n",
       "      <td>robinwilliams jonathanhyde kirstendunst</td>\n",
       "      <td>jonathanhensleigh</td>\n",
       "      <td>board game|adventurer|fight|game</td>\n",
       "      <td>Adventure|Children|Fantasy</td>\n",
       "      <td>Jumanji (1995)</td>\n",
       "    </tr>\n",
       "    <tr>\n",
       "      <th>2</th>\n",
       "      <td>3</td>\n",
       "      <td>waltermatthau jacklemmon sophialoren</td>\n",
       "      <td>markstevenjohnson</td>\n",
       "      <td>boat|lake|neighbor|rivalry</td>\n",
       "      <td>Comedy|Romance</td>\n",
       "      <td>Grumpier Old Men (1995)</td>\n",
       "    </tr>\n",
       "    <tr>\n",
       "      <th>3</th>\n",
       "      <td>4</td>\n",
       "      <td>whitneyhouston angelabassett lorettadevine</td>\n",
       "      <td>terrymcmillan</td>\n",
       "      <td>black american|husband wife relationship|betra...</td>\n",
       "      <td>Comedy|Drama|Romance</td>\n",
       "      <td>Waiting to Exhale (1995)</td>\n",
       "    </tr>\n",
       "    <tr>\n",
       "      <th>4</th>\n",
       "      <td>5</td>\n",
       "      <td>stevemartin dianekeaton martinshort</td>\n",
       "      <td>alberthackett</td>\n",
       "      <td>fatherhood|doberman|dog|mansion</td>\n",
       "      <td>Comedy</td>\n",
       "      <td>Father of the Bride Part II (1995)</td>\n",
       "    </tr>\n",
       "  </tbody>\n",
       "</table>\n",
       "</div>"
      ],
      "text/plain": [
       "   movieId                                  title_cast           director  \\\n",
       "0        1                tomhanks timallen donrickles       johnlasseter   \n",
       "1        2     robinwilliams jonathanhyde kirstendunst  jonathanhensleigh   \n",
       "2        3        waltermatthau jacklemmon sophialoren  markstevenjohnson   \n",
       "3        4  whitneyhouston angelabassett lorettadevine      terrymcmillan   \n",
       "4        5         stevemartin dianekeaton martinshort      alberthackett   \n",
       "\n",
       "                                       plot_keywords  \\\n",
       "0                   toy|rivalry|cowboy|cgi animation   \n",
       "1                   board game|adventurer|fight|game   \n",
       "2                         boat|lake|neighbor|rivalry   \n",
       "3  black american|husband wife relationship|betra...   \n",
       "4                    fatherhood|doberman|dog|mansion   \n",
       "\n",
       "                                        genres  \\\n",
       "0  Adventure|Animation|Children|Comedy|Fantasy   \n",
       "1                   Adventure|Children|Fantasy   \n",
       "2                               Comedy|Romance   \n",
       "3                         Comedy|Drama|Romance   \n",
       "4                                       Comedy   \n",
       "\n",
       "                                title  \n",
       "0                    Toy Story (1995)  \n",
       "1                      Jumanji (1995)  \n",
       "2             Grumpier Old Men (1995)  \n",
       "3            Waiting to Exhale (1995)  \n",
       "4  Father of the Bride Part II (1995)  "
      ]
     },
     "execution_count": 13,
     "metadata": {},
     "output_type": "execute_result"
    }
   ],
   "source": [
    "# Discarding the pipes between the actors' full names and getting only the first three names\n",
    "df['title_cast'] = df['title_cast'].map(lambda x: x.split('|')[:3])\n",
    "df['title_cast'] = df['title_cast'].apply(lambda x: \" \".join(x))\n",
    "df.head()"
   ]
  },
  {
   "cell_type": "code",
   "execution_count": 14,
   "id": "babcf658",
   "metadata": {},
   "outputs": [
    {
     "data": {
      "text/html": [
       "<div>\n",
       "<style scoped>\n",
       "    .dataframe tbody tr th:only-of-type {\n",
       "        vertical-align: middle;\n",
       "    }\n",
       "\n",
       "    .dataframe tbody tr th {\n",
       "        vertical-align: top;\n",
       "    }\n",
       "\n",
       "    .dataframe thead th {\n",
       "        text-align: right;\n",
       "    }\n",
       "</style>\n",
       "<table border=\"1\" class=\"dataframe\">\n",
       "  <thead>\n",
       "    <tr style=\"text-align: right;\">\n",
       "      <th></th>\n",
       "      <th>movieId</th>\n",
       "      <th>title_cast</th>\n",
       "      <th>director</th>\n",
       "      <th>plot_keywords</th>\n",
       "      <th>genres</th>\n",
       "      <th>title</th>\n",
       "    </tr>\n",
       "  </thead>\n",
       "  <tbody>\n",
       "    <tr>\n",
       "      <th>0</th>\n",
       "      <td>1</td>\n",
       "      <td>tomhanks timallen donrickles</td>\n",
       "      <td>johnlasseter</td>\n",
       "      <td>toy rivalry cowboy cgi animation</td>\n",
       "      <td>Adventure|Animation|Children|Comedy|Fantasy</td>\n",
       "      <td>Toy Story (1995)</td>\n",
       "    </tr>\n",
       "    <tr>\n",
       "      <th>1</th>\n",
       "      <td>2</td>\n",
       "      <td>robinwilliams jonathanhyde kirstendunst</td>\n",
       "      <td>jonathanhensleigh</td>\n",
       "      <td>board game adventurer fight game</td>\n",
       "      <td>Adventure|Children|Fantasy</td>\n",
       "      <td>Jumanji (1995)</td>\n",
       "    </tr>\n",
       "    <tr>\n",
       "      <th>2</th>\n",
       "      <td>3</td>\n",
       "      <td>waltermatthau jacklemmon sophialoren</td>\n",
       "      <td>markstevenjohnson</td>\n",
       "      <td>boat lake neighbor rivalry</td>\n",
       "      <td>Comedy|Romance</td>\n",
       "      <td>Grumpier Old Men (1995)</td>\n",
       "    </tr>\n",
       "    <tr>\n",
       "      <th>3</th>\n",
       "      <td>4</td>\n",
       "      <td>whitneyhouston angelabassett lorettadevine</td>\n",
       "      <td>terrymcmillan</td>\n",
       "      <td>black american husband wife relationship betra...</td>\n",
       "      <td>Comedy|Drama|Romance</td>\n",
       "      <td>Waiting to Exhale (1995)</td>\n",
       "    </tr>\n",
       "    <tr>\n",
       "      <th>4</th>\n",
       "      <td>5</td>\n",
       "      <td>stevemartin dianekeaton martinshort</td>\n",
       "      <td>alberthackett</td>\n",
       "      <td>fatherhood doberman dog mansion</td>\n",
       "      <td>Comedy</td>\n",
       "      <td>Father of the Bride Part II (1995)</td>\n",
       "    </tr>\n",
       "  </tbody>\n",
       "</table>\n",
       "</div>"
      ],
      "text/plain": [
       "   movieId                                  title_cast           director  \\\n",
       "0        1                tomhanks timallen donrickles       johnlasseter   \n",
       "1        2     robinwilliams jonathanhyde kirstendunst  jonathanhensleigh   \n",
       "2        3        waltermatthau jacklemmon sophialoren  markstevenjohnson   \n",
       "3        4  whitneyhouston angelabassett lorettadevine      terrymcmillan   \n",
       "4        5         stevemartin dianekeaton martinshort      alberthackett   \n",
       "\n",
       "                                       plot_keywords  \\\n",
       "0                   toy rivalry cowboy cgi animation   \n",
       "1                   board game adventurer fight game   \n",
       "2                         boat lake neighbor rivalry   \n",
       "3  black american husband wife relationship betra...   \n",
       "4                    fatherhood doberman dog mansion   \n",
       "\n",
       "                                        genres  \\\n",
       "0  Adventure|Animation|Children|Comedy|Fantasy   \n",
       "1                   Adventure|Children|Fantasy   \n",
       "2                               Comedy|Romance   \n",
       "3                         Comedy|Drama|Romance   \n",
       "4                                       Comedy   \n",
       "\n",
       "                                title  \n",
       "0                    Toy Story (1995)  \n",
       "1                      Jumanji (1995)  \n",
       "2             Grumpier Old Men (1995)  \n",
       "3            Waiting to Exhale (1995)  \n",
       "4  Father of the Bride Part II (1995)  "
      ]
     },
     "execution_count": 14,
     "metadata": {},
     "output_type": "execute_result"
    }
   ],
   "source": [
    "# Discarding the pipes between the plot keywords' and getting only the first five words\n",
    "df['plot_keywords'] = df['plot_keywords'].map(lambda x: x.split('|')[:5])\n",
    "df['plot_keywords'] = df['plot_keywords'].apply(lambda x: \" \".join(x))\n",
    "df.head()"
   ]
  },
  {
   "cell_type": "code",
   "execution_count": 15,
   "id": "84eea17b",
   "metadata": {},
   "outputs": [
    {
     "data": {
      "text/html": [
       "<div>\n",
       "<style scoped>\n",
       "    .dataframe tbody tr th:only-of-type {\n",
       "        vertical-align: middle;\n",
       "    }\n",
       "\n",
       "    .dataframe tbody tr th {\n",
       "        vertical-align: top;\n",
       "    }\n",
       "\n",
       "    .dataframe thead th {\n",
       "        text-align: right;\n",
       "    }\n",
       "</style>\n",
       "<table border=\"1\" class=\"dataframe\">\n",
       "  <thead>\n",
       "    <tr style=\"text-align: right;\">\n",
       "      <th></th>\n",
       "      <th>movieId</th>\n",
       "      <th>title_cast</th>\n",
       "      <th>director</th>\n",
       "      <th>plot_keywords</th>\n",
       "      <th>genres</th>\n",
       "      <th>title</th>\n",
       "    </tr>\n",
       "  </thead>\n",
       "  <tbody>\n",
       "    <tr>\n",
       "      <th>0</th>\n",
       "      <td>1</td>\n",
       "      <td>tomhanks timallen donrickles</td>\n",
       "      <td>johnlasseter</td>\n",
       "      <td>toy rivalry cowboy cgi animation</td>\n",
       "      <td>adventure animation children comedy fantasy</td>\n",
       "      <td>Toy Story (1995)</td>\n",
       "    </tr>\n",
       "    <tr>\n",
       "      <th>1</th>\n",
       "      <td>2</td>\n",
       "      <td>robinwilliams jonathanhyde kirstendunst</td>\n",
       "      <td>jonathanhensleigh</td>\n",
       "      <td>board game adventurer fight game</td>\n",
       "      <td>adventure children fantasy</td>\n",
       "      <td>Jumanji (1995)</td>\n",
       "    </tr>\n",
       "    <tr>\n",
       "      <th>2</th>\n",
       "      <td>3</td>\n",
       "      <td>waltermatthau jacklemmon sophialoren</td>\n",
       "      <td>markstevenjohnson</td>\n",
       "      <td>boat lake neighbor rivalry</td>\n",
       "      <td>comedy romance</td>\n",
       "      <td>Grumpier Old Men (1995)</td>\n",
       "    </tr>\n",
       "    <tr>\n",
       "      <th>3</th>\n",
       "      <td>4</td>\n",
       "      <td>whitneyhouston angelabassett lorettadevine</td>\n",
       "      <td>terrymcmillan</td>\n",
       "      <td>black american husband wife relationship betra...</td>\n",
       "      <td>comedy drama romance</td>\n",
       "      <td>Waiting to Exhale (1995)</td>\n",
       "    </tr>\n",
       "    <tr>\n",
       "      <th>4</th>\n",
       "      <td>5</td>\n",
       "      <td>stevemartin dianekeaton martinshort</td>\n",
       "      <td>alberthackett</td>\n",
       "      <td>fatherhood doberman dog mansion</td>\n",
       "      <td>comedy</td>\n",
       "      <td>Father of the Bride Part II (1995)</td>\n",
       "    </tr>\n",
       "  </tbody>\n",
       "</table>\n",
       "</div>"
      ],
      "text/plain": [
       "   movieId                                  title_cast           director  \\\n",
       "0        1                tomhanks timallen donrickles       johnlasseter   \n",
       "1        2     robinwilliams jonathanhyde kirstendunst  jonathanhensleigh   \n",
       "2        3        waltermatthau jacklemmon sophialoren  markstevenjohnson   \n",
       "3        4  whitneyhouston angelabassett lorettadevine      terrymcmillan   \n",
       "4        5         stevemartin dianekeaton martinshort      alberthackett   \n",
       "\n",
       "                                       plot_keywords  \\\n",
       "0                   toy rivalry cowboy cgi animation   \n",
       "1                   board game adventurer fight game   \n",
       "2                         boat lake neighbor rivalry   \n",
       "3  black american husband wife relationship betra...   \n",
       "4                    fatherhood doberman dog mansion   \n",
       "\n",
       "                                        genres  \\\n",
       "0  adventure animation children comedy fantasy   \n",
       "1                   adventure children fantasy   \n",
       "2                               comedy romance   \n",
       "3                         comedy drama romance   \n",
       "4                                       comedy   \n",
       "\n",
       "                                title  \n",
       "0                    Toy Story (1995)  \n",
       "1                      Jumanji (1995)  \n",
       "2             Grumpier Old Men (1995)  \n",
       "3            Waiting to Exhale (1995)  \n",
       "4  Father of the Bride Part II (1995)  "
      ]
     },
     "execution_count": 15,
     "metadata": {},
     "output_type": "execute_result"
    }
   ],
   "source": [
    "# Discarding the pipes between the genres \n",
    "df['genres'] = df['genres'].map(lambda x: x.lower().split('|'))\n",
    "df['genres'] = df['genres'].apply(lambda x: \" \".join(x))\n",
    "\n",
    "df.head()"
   ]
  },
  {
<<<<<<< Updated upstream
=======
   "cell_type": "markdown",
   "id": "88722926",
   "metadata": {},
   "source": [
    "#### Creating a New feature from existing features"
   ]
  },
  {
>>>>>>> Stashed changes
   "cell_type": "code",
   "execution_count": 16,
   "id": "18c10241",
   "metadata": {},
   "outputs": [
    {
     "data": {
      "text/html": [
       "<div>\n",
       "<style scoped>\n",
       "    .dataframe tbody tr th:only-of-type {\n",
       "        vertical-align: middle;\n",
       "    }\n",
       "\n",
       "    .dataframe tbody tr th {\n",
       "        vertical-align: top;\n",
       "    }\n",
       "\n",
       "    .dataframe thead th {\n",
       "        text-align: right;\n",
       "    }\n",
       "</style>\n",
       "<table border=\"1\" class=\"dataframe\">\n",
       "  <thead>\n",
       "    <tr style=\"text-align: right;\">\n",
       "      <th></th>\n",
       "      <th>title</th>\n",
       "      <th>summary</th>\n",
       "    </tr>\n",
       "    <tr>\n",
       "      <th>movieId</th>\n",
       "      <th></th>\n",
       "      <th></th>\n",
       "    </tr>\n",
       "  </thead>\n",
       "  <tbody>\n",
       "    <tr>\n",
       "      <th>1</th>\n",
       "      <td>Toy Story (1995)</td>\n",
       "      <td>tomhanks timallen donrickles johnlasseter toy ...</td>\n",
       "    </tr>\n",
       "    <tr>\n",
       "      <th>2</th>\n",
       "      <td>Jumanji (1995)</td>\n",
       "      <td>robinwilliams jonathanhyde kirstendunst jonath...</td>\n",
       "    </tr>\n",
       "    <tr>\n",
       "      <th>3</th>\n",
       "      <td>Grumpier Old Men (1995)</td>\n",
       "      <td>waltermatthau jacklemmon sophialoren marksteve...</td>\n",
       "    </tr>\n",
       "    <tr>\n",
       "      <th>4</th>\n",
       "      <td>Waiting to Exhale (1995)</td>\n",
       "      <td>whitneyhouston angelabassett lorettadevine ter...</td>\n",
       "    </tr>\n",
       "    <tr>\n",
       "      <th>5</th>\n",
       "      <td>Father of the Bride Part II (1995)</td>\n",
       "      <td>stevemartin dianekeaton martinshort alberthack...</td>\n",
       "    </tr>\n",
       "  </tbody>\n",
       "</table>\n",
       "</div>"
      ],
      "text/plain": [
       "                                      title  \\\n",
       "movieId                                       \n",
       "1                          Toy Story (1995)   \n",
       "2                            Jumanji (1995)   \n",
       "3                   Grumpier Old Men (1995)   \n",
       "4                  Waiting to Exhale (1995)   \n",
       "5        Father of the Bride Part II (1995)   \n",
       "\n",
       "                                                   summary  \n",
       "movieId                                                     \n",
       "1        tomhanks timallen donrickles johnlasseter toy ...  \n",
       "2        robinwilliams jonathanhyde kirstendunst jonath...  \n",
       "3        waltermatthau jacklemmon sophialoren marksteve...  \n",
       "4        whitneyhouston angelabassett lorettadevine ter...  \n",
       "5        stevemartin dianekeaton martinshort alberthack...  "
      ]
     },
     "execution_count": 16,
     "metadata": {},
     "output_type": "execute_result"
    }
   ],
   "source": [
    "# Creating an empty column and list to store the summary for each movie\n",
    "df['summary'] = ''\n",
    "summary = []\n",
    "\n",
    "# List of the columns we want to use to create our corpus \n",
    "columns = ['title_cast', 'director', 'plot_keywords', 'genres']\n",
    "\n",
<<<<<<< Updated upstream
    "# For each movie, combine the contents of the selected columns to form it's unique corpus \n",
=======
    "# For each movie, combine the contents of the selected columns to form it's unique summary \n",
>>>>>>> Stashed changes
    "for i in range(0, len(df['movieId'])):\n",
    "    words = ''\n",
    "    for col in columns:\n",
    "        words = words + df.iloc[i][col] + \" \"        \n",
    "    summary.append(words)\n",
    "\n",
<<<<<<< Updated upstream
    "# Add the corpus information for each movie to the dataframe \n",
=======
    "# Add the summary information for each movie to the dataframe \n",
>>>>>>> Stashed changes
    "df['summary'] = summary\n",
    "df.set_index('movieId', inplace=True)\n",
    "\n",
    "# Drop the columns we don't need anymore to preserve memory\n",
    "df.drop(columns=['title_cast', 'director', 'plot_keywords', 'genres'], inplace=True)\n",
    "\n",
    "df.head()"
   ]
  },
  {
   "cell_type": "markdown",
   "id": "84d38397",
   "metadata": {},
   "source": [
<<<<<<< Updated upstream
    "#### Vectorization"
=======
    "#### Vectorization\n",
    "    Vectorization is simply a technique by which you can make your code execute fast and is a very good way of optimizing machine learning algorithms that process text data.\n",
    "    There are various ways of implementing Vectorization, but for this project we would utilise the CountVectorizer."
>>>>>>> Stashed changes
   ]
  },
  {
   "cell_type": "code",
   "execution_count": 17,
   "id": "8c63b4df",
   "metadata": {},
   "outputs": [],
   "source": [
    "# instantiated the  vectorizer object\n",
    "cv = CountVectorizer(stop_words='english')\n",
    "\n",
    "# fit_transform the summary column of the DataFrame\n",
<<<<<<< Updated upstream
    "count_matrix = cv.fit_transform(df['summary'])\n"
   ]
  },
  {
   "cell_type": "code",
   "execution_count": null,
   "id": "24de7487",
   "metadata": {},
   "outputs": [],
   "source": []
  },
  {
   "cell_type": "code",
   "execution_count": null,
   "id": "d1baa3e7",
   "metadata": {},
   "outputs": [],
   "source": []
=======
    "count_matrix = cv.fit_transform(df['summary'])"
   ]
  },
  {
   "cell_type": "markdown",
   "id": "36d71105",
   "metadata": {},
   "source": [
    "#### Summary of Feature Engineering\n",
    "    At the end of this stage, we have successully done the following;\n",
    "    1. Identified the datasets and features needed.\n",
    "    2. Merged the imbd_data dataset with the movies dataset.\n",
    "    3. Cleaned the merged data and appropriated the right datatypes to all features.\n",
    "    4. Created the Summary feature (column) from all the features from the data.\n",
    "    5. Performed Vectorization using CountVectorizer on the summary feature of our data."
   ]
>>>>>>> Stashed changes
  },
  {
   "cell_type": "markdown",
   "id": "43b2d523",
   "metadata": {},
   "source": [
    "<a id=\"five\"></a>\n",
    "## 5. Recommender System\n",
    "<a class=\"anchor\" id=\"1.1\"></a>\n",
    "<a href=#cont>Back to Table of Contents</a>\n",
    "\n",
<<<<<<< Updated upstream
    "---\n",
    "    \n",
    "| ⚡ Description: Modelling ⚡ |\n",
    "| :--------------------------- |\n",
    "| In this section, Two aproach was explore to help make acurate recommenders to users. |\n",
    "\n",
    "---\n",
    "\n",
    "##### There are two major was Recommender systems are deployed;\n",
=======
    "    Recommender systems are the systems that are designed to recommend things to the user based on many different factors.\n",
    "    These systems predict the most likely product that the users are most likely to purchase and are of interest to \n",
    "    companies like Netflix, Amazon, etc. use recommender systems to help their users to identify the correct product \n",
    "    or movies for them. \n",
    "\n",
    "    The recommender system deals with a large volume of information present by filtering the most important information \n",
    "    based on the data provided by a user and other factors that take care of the user’s preference and interest. \n",
    "    It finds out the match between user and item and imputes the similarities between users and items for recommendation.\n",
    "\n",
    "\n",
    "    There are  different ways to implement recommendation systems but we would implement two approaches namely;\n",
>>>>>>> Stashed changes
    "    1. Content  Based method\n",
    "    2. Colaborative Based method"
   ]
  },
  {
   "cell_type": "markdown",
   "id": "fb9a1524",
   "metadata": {},
   "source": [
<<<<<<< Updated upstream
    "### Content Based Method"
   ]
  },
  {
   "cell_type": "markdown",
   "id": "c5e54bcb",
   "metadata": {},
   "source": [
    "###### Cosine Similarity Matrix\n",
    "----\n",
    "\n",
    "----\n"
=======
    "### Content Based Method\n",
    "---    \n",
    "    This is a type of recommendation system which works on the principle of similar content. \n",
    "    If a user is watching a movie, then the system will check about other movies of similar content or the same genre of the movie the user is watching. There are various fundamentals attributes that are used to compute the similarity \n",
    "    while checking about similar content. \n",
    "    \n",
    "    There are different scenarios where we need to check about the similarities, so ther are different metrics to be used.\n",
    "    For textual data which is applicable in this case we use Cosine Similarity.\n",
    "    \n",
    "---\n",
    "    Cosine Similarity: Cosine of the angle between the two vectors of the item, vectors of A and B is calculated for \n",
    "    imputing similarity. If the vectors are closer, then small will be the angle and large will be the cosine. \n",
    "\n"
>>>>>>> Stashed changes
   ]
  },
  {
   "cell_type": "code",
   "execution_count": 18,
   "id": "c6b0869a",
   "metadata": {},
   "outputs": [],
   "source": [
    "# Call the cosine_similarity function on the vectorized data from Data Engineering\n",
    "cosine_sim_matrix = cosine_similarity(count_matrix, count_matrix)"
   ]
  },
  {
   "cell_type": "code",
   "execution_count": 19,
   "id": "d2364341",
   "metadata": {},
   "outputs": [
    {
     "data": {
      "text/plain": [
       "(24866, 24866)"
      ]
     },
     "execution_count": 19,
     "metadata": {},
     "output_type": "execute_result"
    }
   ],
   "source": [
    "# check the shape of the matrix\n",
    "cosine_sim_matrix.shape"
   ]
  },
  {
   "cell_type": "code",
   "execution_count": 20,
   "id": "4984c09d",
   "metadata": {},
   "outputs": [],
   "source": [
    "#movies index mapping\n",
    "mapping = pd.Series(df.index,index = df['title'])"
   ]
  },
  {
   "cell_type": "code",
   "execution_count": 21,
   "id": "31cbe239",
   "metadata": {},
   "outputs": [
    {
     "data": {
      "text/plain": [
       "title\n",
       "Toy Story (1995)                      1\n",
       "Jumanji (1995)                        2\n",
       "Grumpier Old Men (1995)               3\n",
       "Waiting to Exhale (1995)              4\n",
       "Father of the Bride Part II (1995)    5\n",
       "Name: movieId, dtype: int64"
      ]
     },
     "execution_count": 21,
     "metadata": {},
     "output_type": "execute_result"
    }
   ],
   "source": [
    "#calling the head() to inspect the series\n",
    "mapping.head()"
   ]
  },
  {
   "cell_type": "code",
   "execution_count": 22,
   "id": "e4cae872",
   "metadata": {},
   "outputs": [],
   "source": [
    "#recommender function to recommend movies based on metadata\n",
    "def recommend_movies_based_on_content(movie_input):\n",
    "    \"\"\"\n",
    "    This function takes in a list of favourites movies and\n",
    "    gives a recommendation of the top 10 movies \n",
    "    \n",
    "    \"\"\"\n",
    "    \n",
    "    movie_index = []\n",
    "    for i in movie_input:\n",
    "        movie_index.append(mapping[i])\n",
    "    #movie_index = mapping[movie_input]\n",
    "    #get similarity values with other movies\n",
    "    \n",
    "    similarity_score_1 = list(enumerate(cosine_sim_matrix[movie_index[0]]))\n",
    "    similarity_score_2 = list(enumerate(cosine_sim_matrix[movie_index[1]]))\n",
    "    similarity_score_3 = list(enumerate(cosine_sim_matrix[movie_index[2]]))\n",
    "    \n",
    "    similarity_score = similarity_score_1 + similarity_score_2 + similarity_score_3 \n",
    "    \n",
    "    similarity_score = sorted(similarity_score, key=lambda x: x[1], reverse=True)\n",
    "    # Get the scores of the 10 most similar movies. Ignore the first movie.\n",
    "    similarity_score = similarity_score[1:10]\n",
    "    movie_indices = [i[0] for i in similarity_score]\n",
    "    return (df['title'].iloc[movie_indices])"
   ]
  },
  {
   "cell_type": "code",
   "execution_count": 23,
   "id": "dcc5aeb2",
   "metadata": {},
   "outputs": [
    {
     "data": {
      "text/plain": [
       "movieId\n",
       "2                        Jumanji (1995)\n",
       "27                  Now and Then (1995)\n",
       "40851                    Zathura (2005)\n",
       "27436     Mockingbird Don't Sing (2001)\n",
       "101531              Phil Spector (2013)\n",
       "113767                Cantinflas (2014)\n",
       "56551             Treatment, The (2006)\n",
       "6886              Beyond Borders (2003)\n",
       "118882                      1981 (2009)\n",
       "Name: title, dtype: object"
      ]
     },
     "execution_count": 23,
     "metadata": {},
     "output_type": "execute_result"
    }
   ],
   "source": [
    "# trying the recommender function to see if it works\n",
    "\n",
    "recommend_movies_based_on_content(['Toy Story (1995)', 'Othello (1995)', 'GoldenEye (1995)'])"
   ]
  },
  {
   "cell_type": "markdown",
   "id": "26393557",
   "metadata": {},
   "source": [
<<<<<<< Updated upstream
    "#### Colaborative Based Method"
=======
    "#### Colaborative Based Method\n",
    "---\n",
    "    \n",
    "    It is considered to be one of the very smart recommender systems that work on the similarity between \n",
    "    different users and also items that are widely used as an e-commerce website and also online movie websites. \n",
    "    It checks about the taste of similar users and does recommendations.\n",
    "    \n",
    "    There various ways of implementing the collaborative based aproach. However, we would implement the model approach with;\n",
    "    1. Single value Decomposition Model (SVD).\n",
    "    2. Single value Decomposition Model (SVDpp).\n",
    "    3. Normal Predictor (NP) Model."
>>>>>>> Stashed changes
   ]
  },
  {
   "cell_type": "code",
<<<<<<< Updated upstream
   "execution_count": 24,
=======
   "execution_count": 17,
>>>>>>> Stashed changes
   "id": "c4ea5e30",
   "metadata": {},
   "outputs": [],
   "source": [
<<<<<<< Updated upstream
    "#getting a subset(100k observations) of the train dataset to aid model evaluation\n",
    "\n",
    "train_1 = train.sample(frac= 0.1)"
=======
    "#getting a subset(50k observations) of the train dataset to aid model evaluation\n",
    "\n",
    "train_1 = train.sample(frac= 0.05)"
>>>>>>> Stashed changes
   ]
  },
  {
   "cell_type": "code",
<<<<<<< Updated upstream
   "execution_count": 25,
=======
   "execution_count": 18,
>>>>>>> Stashed changes
   "id": "73662777",
   "metadata": {},
   "outputs": [],
   "source": [
<<<<<<< Updated upstream
=======
    "# drop the timestamp column of the train data\n",
>>>>>>> Stashed changes
    "train_1 = train_1.drop(columns='timestamp')\n",
    "\n",
    "reader = Reader()\n",
    "\n",
    "data = Dataset.load_from_df(train_1, reader)"
   ]
  },
  {
<<<<<<< Updated upstream
   "cell_type": "code",
   "execution_count": 26,
=======
   "cell_type": "markdown",
   "id": "504c7705",
   "metadata": {},
   "source": [
    "### Single Value Decomposition (SVD) Model\n",
    "    SVD is basically a matrix factorization technique, which decomposes any matrix into 3 generic and familiar matrices"
   ]
  },
  {
   "cell_type": "code",
   "execution_count": 28,
>>>>>>> Stashed changes
   "id": "d1a36567",
   "metadata": {},
   "outputs": [
    {
     "data": {
      "text/plain": [
<<<<<<< Updated upstream
       "{'test_rmse': array([0.91865041, 0.92041836, 0.9167714 , 0.91855261, 0.91585587]),\n",
       " 'fit_time': (67.1112048625946,\n",
       "  67.13354468345642,\n",
       "  66.31488990783691,\n",
       "  68.5996744632721,\n",
       "  69.70281386375427),\n",
       " 'test_time': (2.655519723892212,\n",
       "  2.6649186611175537,\n",
       "  2.7047293186187744,\n",
       "  2.472388505935669,\n",
       "  2.3158082962036133)}"
      ]
     },
     "execution_count": 26,
=======
       "{'test_rmse': array([0.94457753, 0.94593877]),\n",
       " 'fit_time': (18.96766757965088, 19.825008630752563),\n",
       " 'test_time': (2.45725417137146, 2.5001914501190186)}"
      ]
     },
     "execution_count": 28,
>>>>>>> Stashed changes
     "metadata": {},
     "output_type": "execute_result"
    }
   ],
   "source": [
    "#Define the SVD model object\n",
    "svd = SVD()\n",
    "\n",
<<<<<<< Updated upstream
    "cross_validate(svd, data, measures=['RMSE'], cv = 5)"
=======
    "fig_1 = cross_validate(svd, data, measures=['RMSE'], cv = 2)\n",
    "fig_1"
   ]
  },
  {
   "cell_type": "markdown",
   "id": "472530f7",
   "metadata": {},
   "source": [
    "### Single Value Decomposition (SVDpp) Model\n",
    "    The SVDpp algorithm is an extension of SVD that takes into account implicit ratings"
   ]
  },
  {
   "cell_type": "code",
   "execution_count": 76,
   "id": "ac5d84ba",
   "metadata": {},
   "outputs": [
    {
     "data": {
      "text/plain": [
       "{'test_rmse': array([0.94225478, 0.94144332]),\n",
       " 'fit_time': (78.33780193328857, 75.40376043319702),\n",
       " 'test_time': (8.832955598831177, 8.07640790939331)}"
      ]
     },
     "execution_count": 76,
     "metadata": {},
     "output_type": "execute_result"
    }
   ],
   "source": [
    "#Define the SVD model object\n",
    "svd = SVDpp()\n",
    "\n",
    "fig_2 = cross_validate(svd, data, measures=['RMSE'], cv = 2)\n",
    "fig_2"
   ]
  },
  {
   "cell_type": "markdown",
   "id": "03f9e025",
   "metadata": {},
   "source": [
    "### Normal Predictor (NP) Model\n",
    "    NormalPredictor algorithm predicts a random rating based on the distribution of the training set that is assumed to \n",
    "    be normal."
   ]
  },
  {
   "cell_type": "code",
   "execution_count": 30,
   "id": "b784caa1",
   "metadata": {},
   "outputs": [
    {
     "data": {
      "text/plain": [
       "{'test_rmse': array([1.44221581, 1.44221826]),\n",
       " 'fit_time': (0.5317466259002686, 0.593590497970581),\n",
       " 'test_time': (2.6350181102752686, 2.4512224197387695)}"
      ]
     },
     "execution_count": 30,
     "metadata": {},
     "output_type": "execute_result"
    }
   ],
   "source": [
    "#Define the SVD model object\n",
    "NP = NormalPredictor()\n",
    "\n",
    "fig_3 = cross_validate(NP, data, measures=['RMSE'], cv = 2)\n",
    "fig_3"
   ]
  },
  {
   "cell_type": "markdown",
   "id": "70e2f6ff",
   "metadata": {},
   "source": [
    "###  Comparing the models used based on RMSE and Compute time"
   ]
  },
  {
   "cell_type": "code",
   "execution_count": 39,
   "id": "03ee8d67",
   "metadata": {},
   "outputs": [],
   "source": [
    "import statistics #to help us compute the mean of tuple"
   ]
  },
  {
   "cell_type": "code",
   "execution_count": 40,
   "id": "987e8429",
   "metadata": {},
   "outputs": [],
   "source": [
    "# estimated the the mean RMSE and Compute time for the SVD model\n",
    "SVD_RMSE = fig_1['test_rmse'].mean()\n",
    "SVD_compute_Time = statistics.mean(fig_1['fit_time'])"
   ]
  },
  {
   "cell_type": "code",
   "execution_count": 42,
   "id": "8ae7169c",
   "metadata": {},
   "outputs": [],
   "source": [
    "# estimated the the mean RMSE and Compute time for the SVDpp model\n",
    "SVDpp_RMSE = fig_2['test_rmse'].mean()\n",
    "SVDpp_compute_Time = statistics.mean(fig_2['fit_time'])"
   ]
  },
  {
   "cell_type": "code",
   "execution_count": 43,
   "id": "f11877db",
   "metadata": {},
   "outputs": [],
   "source": [
    "# estimated the the mean RMSE and Compute time for the NP model\n",
    "NP_RMSE = fig_3['test_rmse'].mean()\n",
    "NP_compute_Time = statistics.mean(fig_3['fit_time'])"
   ]
  },
  {
   "cell_type": "code",
   "execution_count": 62,
   "id": "643be879",
   "metadata": {},
   "outputs": [],
   "source": [
    "# created a  dictionary of the RMSE and compute time for each model\n",
    "RMSE_dict = {'SVD': [SVD_RMSE,SVD_compute_Time] , 'SVDpp': [SVDpp_RMSE, SVDpp_compute_Time],  'NP' : [NP_RMSE,NP_compute_Time]  }\n",
    "\n",
    "# created a dataframe of the rmse and compute time for each model\n",
    "RMSE_Compute_df = pd.DataFrame(RMSE_dict, index= ['RMSE', 'Compute_time'])"
   ]
  },
  {
   "cell_type": "code",
   "execution_count": 75,
   "id": "6ca6297e",
   "metadata": {},
   "outputs": [
    {
     "data": {
      "text/html": [
       "<div>\n",
       "<style scoped>\n",
       "    .dataframe tbody tr th:only-of-type {\n",
       "        vertical-align: middle;\n",
       "    }\n",
       "\n",
       "    .dataframe tbody tr th {\n",
       "        vertical-align: top;\n",
       "    }\n",
       "\n",
       "    .dataframe thead th {\n",
       "        text-align: right;\n",
       "    }\n",
       "</style>\n",
       "<table border=\"1\" class=\"dataframe\">\n",
       "  <thead>\n",
       "    <tr style=\"text-align: right;\">\n",
       "      <th></th>\n",
       "      <th>SVD</th>\n",
       "      <th>SVDpp</th>\n",
       "      <th>NP</th>\n",
       "    </tr>\n",
       "  </thead>\n",
       "  <tbody>\n",
       "    <tr>\n",
       "      <th>RMSE</th>\n",
       "      <td>0.945258</td>\n",
       "      <td>0.94273</td>\n",
       "      <td>1.442217</td>\n",
       "    </tr>\n",
       "    <tr>\n",
       "      <th>Compute_time</th>\n",
       "      <td>19.396338</td>\n",
       "      <td>60.54170</td>\n",
       "      <td>0.562669</td>\n",
       "    </tr>\n",
       "  </tbody>\n",
       "</table>\n",
       "</div>"
      ],
      "text/plain": [
       "                    SVD     SVDpp        NP\n",
       "RMSE           0.945258   0.94273  1.442217\n",
       "Compute_time  19.396338  60.54170  0.562669"
      ]
     },
     "execution_count": 75,
     "metadata": {},
     "output_type": "execute_result"
    }
   ],
   "source": [
    "# display the comparison tabel of the models\n",
    "RMSE_df"
   ]
  },
  {
   "cell_type": "markdown",
   "id": "14c727af",
   "metadata": {},
   "source": [
    "    From the the above cell, we observe that the SVD perfomed best with compute time while the SVDpp performed best with the RMSE. Hence we choose the SVD model because the compute time is a major consideration for recommender systems."
>>>>>>> Stashed changes
   ]
  },
  {
   "cell_type": "code",
   "execution_count": 27,
   "id": "1c797419",
   "metadata": {},
   "outputs": [
    {
     "data": {
      "text/plain": [
       "<surprise.prediction_algorithms.matrix_factorization.SVD at 0x1e2800266d0>"
      ]
     },
     "execution_count": 27,
     "metadata": {},
     "output_type": "execute_result"
    }
   ],
   "source": [
<<<<<<< Updated upstream
=======
    "#fit the dataset to our selected and preferred model\n",
>>>>>>> Stashed changes
    "trainset = data.build_full_trainset()\n",
    "\n",
    "svd.fit(trainset)"
   ]
  },
  {
   "cell_type": "markdown",
   "id": "a6cfb3fe",
   "metadata": {},
   "source": [
    "### Hyper parameter Tuning\n",
    "\n",
    "Hyper-parameter tuning is choosing a set of optimal hyperparameters for a learning algorithm."
   ]
  },
  {
   "cell_type": "code",
   "execution_count": 29,
   "id": "030c3c6e",
   "metadata": {},
   "outputs": [],
   "source": [
    "from surprise.model_selection import GridSearchCV"
   ]
  },
  {
   "cell_type": "code",
   "execution_count": 30,
   "id": "596f1611",
   "metadata": {},
   "outputs": [
    {
     "name": "stderr",
     "output_type": "stream",
     "text": [
      "[Parallel(n_jobs=-1)]: Using backend LokyBackend with 4 concurrent workers.\n",
      "[Parallel(n_jobs=-1)]: Done   5 tasks      | elapsed: 21.2min\n",
      "[Parallel(n_jobs=-1)]: Done  10 tasks      | elapsed: 31.1min\n",
      "[Parallel(n_jobs=-1)]: Done  17 tasks      | elapsed: 62.9min\n",
      "[Parallel(n_jobs=-1)]: Done  24 tasks      | elapsed: 82.6min\n",
      "[Parallel(n_jobs=-1)]: Done  33 tasks      | elapsed: 126.6min\n",
      "[Parallel(n_jobs=-1)]: Done  38 out of  40 | elapsed: 151.5min remaining:  8.0min\n",
      "[Parallel(n_jobs=-1)]: Done  40 out of  40 | elapsed: 160.7min finished\n"
     ]
    },
    {
     "name": "stdout",
     "output_type": "stream",
     "text": [
      "Best Score is: \n",
      "0.9007351854207123\n",
      "Best Parameters are: \n",
      "{'n_epochs': 40, 'n_factors': 400, 'init_std_dev': 0.005, 'random_state': 42}\n"
     ]
    }
   ],
   "source": [
    "param_grid = {'n_epochs':[40,50], \n",
    "              'n_factors':[300,400], \n",
    "              'init_std_dev':[0.001, 0.005], \n",
    "              'random_state':[42]} \n",
    "grid_SVD = GridSearchCV(SVD, cv=5, measures=['rmse'], param_grid=param_grid, n_jobs=-1, joblib_verbose=10)\n",
    "grid_SVD.fit(data)\n",
    "print('Best Score is: ')\n",
    "print(grid_SVD.best_score['rmse'])\n",
    "print('Best Parameters are: ')\n",
    "print(grid_SVD.best_params['rmse'])"
   ]
  },
  {
   "cell_type": "code",
   "execution_count": null,
<<<<<<< Updated upstream
   "id": "38556caa",
   "metadata": {},
   "outputs": [],
   "source": []
  },
  {
   "cell_type": "code",
   "execution_count": null,
=======
>>>>>>> Stashed changes
   "id": "58077d47",
   "metadata": {},
   "outputs": [],
   "source": [
    "# Train the model on the entire dataset with optimized model parameters\n",
    "reader = Reader(rating_scale=(0.5, 5))\n",
    "data = Dataset.load_from_df(train[['userId','movieId','rating']], reader)\n",
    "trainingSet = data.build_full_trainset()\n",
    "svd = SVD(n_epochs = 40, n_factors = 400, init_std_dev = 0.005, random_state=42, verbose=True)\n",
    "svd.fit(trainingSet)"
   ]
  },
  {
   "cell_type": "code",
   "execution_count": null,
   "id": "a1202cdc",
   "metadata": {},
   "outputs": [],
   "source": [
    "# Make predictions using the trained model\n",
    "pred = [svd.predict(test.userId[i],test.movieId[i]).est for i in test.index]\n",
    "test['rating'] = pred"
   ]
  },
  {
<<<<<<< Updated upstream
=======
   "cell_type": "markdown",
   "id": "d634f940",
   "metadata": {},
   "source": [
    "### Kaggle Submission"
   ]
  },
  {
>>>>>>> Stashed changes
   "cell_type": "code",
   "execution_count": null,
   "id": "90c344fd",
   "metadata": {},
   "outputs": [],
   "source": [
    "# Create the csv file for submission\n",
    "test['Id'] = test['userId'].astype(str)+'_'+test['movieId'].astype(str)\n",
    "test = test[['Id','rating']]\n",
    "test.to_csv('kaggle_submission2.csv', index=False)"
   ]
  },
  {
   "cell_type": "markdown",
<<<<<<< Updated upstream
   "id": "a8ad0c0d",
   "metadata": {},
   "source": [
    "<a id=\"seven\"></a>\n",
    "## 7. Model Explanations\n",
    "<a class=\"anchor\" id=\"1.1\"></a>\n",
    "<a href=#cont>Back to Table of Contents</a>\n",
    "\n",
    "---\n",
    "    \n",
    "| ⚡ Description: Model explanation ⚡ |\n",
    "| :--------------------------- |\n",
    "| In this section, you are required to discuss how the best performing model works in a simple way so that both technical and non-technical stakeholders can grasp the intuition behind the model's inner workings. |\n",
    "\n",
    "---"
   ]
  },
  {
   "cell_type": "code",
   "execution_count": null,
   "id": "b35dda7f",
   "metadata": {},
   "outputs": [],
   "source": []
  },
  {
   "cell_type": "code",
   "execution_count": 29,
   "id": "54ecf105",
   "metadata": {},
   "outputs": [],
   "source": []
  },
  {
   "cell_type": "code",
   "execution_count": null,
   "id": "4996ba81",
   "metadata": {},
   "outputs": [],
   "source": []
  },
  {
   "cell_type": "code",
   "execution_count": 37,
   "id": "36a02283",
   "metadata": {},
   "outputs": [],
   "source": []
  },
  {
   "cell_type": "code",
   "execution_count": null,
   "id": "f45233c7",
   "metadata": {},
   "outputs": [],
   "source": []
  },
  {
   "cell_type": "code",
   "execution_count": null,
   "id": "6948df9b",
   "metadata": {},
   "outputs": [],
   "source": []
  },
  {
   "cell_type": "code",
   "execution_count": null,
   "id": "a5be3c8f",
   "metadata": {},
   "outputs": [],
   "source": []
  },
  {
   "cell_type": "code",
   "execution_count": null,
   "id": "ea8f5b58",
   "metadata": {},
   "outputs": [],
   "source": []
  },
  {
   "cell_type": "code",
   "execution_count": 22,
   "id": "df599b8e",
   "metadata": {},
   "outputs": [],
   "source": [
    "# Evaluate the model \n",
    "svd = SVD(random_state=0)\n",
    "#cv = cross_validate(svd, test_data, cv=5, measures=['RMSE'], verbose=True)"
   ]
  },
  {
   "cell_type": "code",
   "execution_count": 23,
   "id": "0d616c61",
   "metadata": {},
   "outputs": [
    {
     "data": {
      "text/plain": [
       "<surprise.prediction_algorithms.matrix_factorization.SVD at 0x28208192a90>"
      ]
     },
     "execution_count": 23,
     "metadata": {},
     "output_type": "execute_result"
    }
   ],
   "source": [
    "# Train the model on the entire dataset \n",
    "reader = Reader(rating_scale=(0.5, 5))\n",
    "data = Dataset.load_from_df(train[['userId','movieId','rating']], reader)\n",
    "trainingSet = data.build_full_trainset()\n",
    "svd.fit(trainingSet)\n",
    "\n"
   ]
  },
  {
   "cell_type": "code",
   "execution_count": 24,
   "id": "2a480734",
   "metadata": {},
   "outputs": [],
   "source": [
    "# Make predictions using the trained model\n",
    "pred = [svd.predict(test.userId[i],test.movieId[i]).est for i in test.index]\n",
    "test['rating'] = pred"
   ]
  },
  {
   "cell_type": "code",
   "execution_count": 25,
   "id": "a51a9f69",
   "metadata": {},
   "outputs": [],
   "source": [
    "# Create the csv file for submission\n",
    "test['Id'] = test['userId'].astype(str)+'_'+test['movieId'].astype(str)\n",
    "test = test[['Id','rating']]\n",
    "test.to_csv('kaggle_submission.csv', index=False)"
=======
   "id": "1888438c",
   "metadata": {},
   "source": [
    "### Conclusion\n",
    "\n",
    "---\n",
    "    Dealing with a large dataset has afforded us the opportunity to gather insights that could be used to better \n",
    "    understand our User's behavior and allowed us to dig deeper in understanding how different features can be used \n",
    "    to maximize consumer experience, with the aid of algorithms such as Content-Based and Collaborative-Filtering \n",
    "    we were able to segregate groups with similar traits."
>>>>>>> Stashed changes
   ]
  }
 ],
 "metadata": {
  "kernelspec": {
   "display_name": "Python 3",
   "language": "python",
   "name": "python3"
  },
  "language_info": {
   "codemirror_mode": {
    "name": "ipython",
    "version": 3
   },
   "file_extension": ".py",
   "mimetype": "text/x-python",
   "name": "python",
   "nbconvert_exporter": "python",
   "pygments_lexer": "ipython3",
   "version": "3.8.8"
  },
  "latex_envs": {
   "LaTeX_envs_menu_present": true,
   "autoclose": false,
   "autocomplete": true,
   "bibliofile": "biblio.bib",
   "cite_by": "apalike",
   "current_citInitial": 1,
   "eqLabelWithNumbers": true,
   "eqNumInitial": 1,
   "hotkeys": {
    "equation": "Ctrl-E",
    "itemize": "Ctrl-I"
   },
   "labels_anchors": false,
   "latex_user_defs": false,
   "report_style_numbering": false,
   "user_envs_cfg": false
  },
  "toc": {
   "base_numbering": 1,
   "nav_menu": {},
   "number_sections": true,
   "sideBar": true,
   "skip_h1_title": false,
   "title_cell": "Table of Contents",
   "title_sidebar": "Contents",
   "toc_cell": false,
   "toc_position": {},
   "toc_section_display": true,
   "toc_window_display": false
  },
  "varInspector": {
   "cols": {
    "lenName": 16,
    "lenType": 16,
    "lenVar": 40
   },
   "kernels_config": {
    "python": {
     "delete_cmd_postfix": "",
     "delete_cmd_prefix": "del ",
     "library": "var_list.py",
     "varRefreshCmd": "print(var_dic_list())"
    },
    "r": {
     "delete_cmd_postfix": ") ",
     "delete_cmd_prefix": "rm(",
     "library": "var_list.r",
     "varRefreshCmd": "cat(var_dic_list()) "
    }
   },
   "types_to_exclude": [
    "module",
    "function",
    "builtin_function_or_method",
    "instance",
    "_Feature"
   ],
   "window_display": false
  }
 },
 "nbformat": 4,
 "nbformat_minor": 5
}
